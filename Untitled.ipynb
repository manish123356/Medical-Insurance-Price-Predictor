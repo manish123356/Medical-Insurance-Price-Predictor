{
 "cells": [
  {
   "cell_type": "code",
   "execution_count": null,
   "id": "6efea2d6-62d2-49ae-8be9-bc55ce209886",
   "metadata": {},
   "outputs": [],
   "source": [
    "import numpy as np\n",
    "import pandas as pd\n",
    "import seaborn as sns\n",
    "import matplotlib as pt\n",
    "import warnings\n",
    "warnings.filterwarnings(\"ignore\")"
   ]
  },
  {
   "cell_type": "code",
   "execution_count": null,
   "id": "f76e0614-10f8-423f-aee8-f86716b8e72c",
   "metadata": {},
   "outputs": [],
   "source": [
    "df=pd.read_csv(\"insurance.csv\")\n",
    "df"
   ]
  },
  {
   "cell_type": "code",
   "execution_count": null,
   "id": "012244fd-7ddb-4b87-80cd-4f5291181264",
   "metadata": {},
   "outputs": [],
   "source": [
    "df.info()"
   ]
  },
  {
   "cell_type": "code",
   "execution_count": null,
   "id": "7798223c-eacc-4288-a119-b9d9f721c856",
   "metadata": {},
   "outputs": [],
   "source": [
    "df.describe()"
   ]
  },
  {
   "cell_type": "code",
   "execution_count": null,
   "id": "95edb14d-7e32-44a9-ac7c-c8afc00acd5e",
   "metadata": {},
   "outputs": [],
   "source": [
    "df.isnull().sum()"
   ]
  },
  {
   "cell_type": "code",
   "execution_count": null,
   "id": "c19f8277-4180-4bb7-b1d3-efeb4124360b",
   "metadata": {},
   "outputs": [],
   "source": [
    "import matplotlib.pyplot as plt\n",
    "\n",
    "features = ['sex', 'smoker', 'region']\n",
    "\n",
    "plt.subplots(figsize=(20, 10))\n",
    "for i, col in enumerate(features):\n",
    "\tplt.subplot(1, 3, i + 1)\n",
    "\n",
    "\tx = df[col].value_counts()\n",
    "\tplt.pie(x.values,\n",
    "\t\t\tlabels=x.index,\n",
    "\t\t\tautopct='%1.1f%%')\n",
    "\n",
    "plt.show()"
   ]
  },
  {
   "cell_type": "code",
   "execution_count": null,
   "id": "a3338f42-c3bb-4278-b091-97d7c7b3d4b3",
   "metadata": {},
   "outputs": [],
   "source": [
    "features = ['sex', 'children', 'smoker', 'region']\n",
    "\n",
    "plt.subplots(figsize=(20, 10))\n",
    "for i, col in enumerate(features):\n",
    "    plt.subplot(2, 2, i + 1)\n",
    "    df.groupby(col)['charges'].mean().astype(float).plot.bar()\n",
    "plt.show()"
   ]
  },
  {
   "cell_type": "code",
   "execution_count": null,
   "id": "f44602e4-feca-4f17-82d0-758040b098c8",
   "metadata": {},
   "outputs": [],
   "source": [
    "import seaborn as sns\n",
    "features = ['age', 'bmi']\n",
    "\n",
    "plt.subplots(figsize=(17, 7))\n",
    "for i, col in enumerate(features):\n",
    "\tplt.subplot(1, 2, i + 1)\n",
    "\tsns.scatterplot(data=df, x=col,\n",
    "\t\t\t\ty='charges',\n",
    "\t\t\t\thue='smoker')\n",
    "plt.show()"
   ]
  },
  {
   "cell_type": "code",
   "execution_count": null,
   "id": "c38e2dc0-afca-4f77-ba66-9b695ce01587",
   "metadata": {},
   "outputs": [],
   "source": [
    "df.drop_duplicates(inplace=True)\n",
    "sns.boxplot(df['age'])"
   ]
  },
  {
   "cell_type": "code",
   "execution_count": null,
   "id": "97255f1a-4bbf-43ab-a120-1c23ad717f9a",
   "metadata": {},
   "outputs": [],
   "source": [
    "sns.boxplot(df['bmi'])"
   ]
  },
  {
   "cell_type": "code",
   "execution_count": null,
   "id": "337eb612-6bdf-42e4-a495-744ed374b17b",
   "metadata": {},
   "outputs": [],
   "source": [
    "Q1=df['bmi'].quantile(0.25)\n",
    "Q2=df['bmi'].quantile(0.5)\n",
    "Q3=df['bmi'].quantile(0.75)\n",
    "iqr=Q3-Q1\n",
    "lowlim=Q1-1.5*iqr\n",
    "upplim=Q3+1.5*iqr\n",
    "print(lowlim)\n",
    "print(upplim)"
   ]
  },
  {
   "cell_type": "code",
   "execution_count": null,
   "id": "76afb6df-41fc-4b9b-b072-4b8ab8b48603",
   "metadata": {},
   "outputs": [],
   "source": [
    "Q1=df['bmi'].quantile(0.25)\n",
    "Q2=df['bmi'].quantile(0.5)\n",
    "Q3=df['bmi'].quantile(0.75)\n",
    "iqr=Q3-Q1\n",
    "lowlim=Q1-1.5*iqr\n",
    "upplim=Q3+1.5*iqr\n",
    "print(lowlim)"
   ]
  },
  {
   "cell_type": "code",
   "execution_count": null,
   "id": "e1d8d98d-1249-4397-8093-0329ca23a586",
   "metadata": {},
   "outputs": [],
   "source": [
    "df['bmi'].skew()\n",
    "df['age'].skew()"
   ]
  },
  {
   "cell_type": "code",
   "execution_count": null,
   "id": "8cc099e6-5022-4c1a-8d69-196e76489e10",
   "metadata": {},
   "outputs": [],
   "source": [
    "df['sex']=df['sex'].map({'male':0,'female':1})\n",
    "df['smoker']=df['smoker'].map({'yes':1,'no':0})\n",
    "df['region']=df['region'].map({'northwest':0, 'northeast':1,'southeast':2,'southwest':3})"
   ]
  },
  {
   "cell_type": "code",
   "execution_count": null,
   "id": "1be9dba6-b4f6-4aab-8cf0-a8bbffc76cef",
   "metadata": {},
   "outputs": [],
   "source": [
    "df.corr()"
   ]
  },
  {
   "cell_type": "code",
   "execution_count": null,
   "id": "42c19c83-f0fb-4169-a582-39b8756e85e2",
   "metadata": {},
   "outputs": [],
   "source": [
    "X=df.drop(['charges'],axis=1)\n",
    "Y=df[['charges']]\n",
    "from sklearn.linear_model import LinearRegression,Lasso\n",
    "from sklearn.svm import SVR\n",
    "from sklearn.ensemble import RandomForestRegressor\n",
    "from sklearn.ensemble import GradientBoostingRegressor\n",
    "from xgboost import XGBRegressor\n",
    "from sklearn.model_selection import train_test_split\n",
    "from sklearn.model_selection import cross_val_score\n",
    "l1=[]\n",
    "l2=[]\n",
    "l3=[]\n",
    "cvs=0\n",
    "for i in range(40,50):\n",
    " xtrain,xtest,ytrain,ytest=train_test_split(X,Y,test_size=0.2,random_state=i)\n",
    " lrmodel=LinearRegression()\n",
    " lrmodel.fit(xtrain,ytrain)\n",
    " l1.append(lrmodel.score(xtrain,ytrain))\n",
    " l2.append(lrmodel.score(xtest,ytest))\n",
    " cvs=(cross_val_score(lrmodel,X,Y,cv=5,)).mean()\n",
    " l3.append(cvs)\n",
    " df1=pd.DataFrame({'train acc':l1,'test acc':l2,'cvs':l3})\n",
    " df1"
   ]
  },
  {
   "cell_type": "code",
   "execution_count": null,
   "id": "a46ab73a-34a9-45a6-af15-7caeeab01ce0",
   "metadata": {},
   "outputs": [],
   "source": [
    "xtrain,xtest,ytrain,ytest=train_test_split(X,Y,test_size=0.2,random_state=42)\n",
    "lrmodel=LinearRegression()\n",
    "lrmodel.fit(xtrain,ytrain)\n",
    "print(lrmodel.score(xtrain,ytrain))\n",
    "print(lrmodel.score(xtest,ytest))\n",
    "print(cross_val_score(lrmodel,X,Y,cv=5,).mean())"
   ]
  },
  {
   "cell_type": "code",
   "execution_count": null,
   "id": "3e8366af-febc-4149-b4ca-761b04fe782e",
   "metadata": {},
   "outputs": [],
   "source": [
    "from sklearn.metrics import r2_score\n",
    "svrmodel=SVR()\n",
    "svrmodel.fit(xtrain,ytrain)\n",
    "ypredtrain1=svrmodel.predict(xtrain)\n",
    "ypredtest1=svrmodel.predict(xtest)\n",
    "print(r2_score(ytrain,ypredtrain1))\n",
    "print(r2_score(ytest,ypredtest1))\n",
    "print(cross_val_score(svrmodel,X,Y,cv=5,).mean())"
   ]
  },
  {
   "cell_type": "code",
   "execution_count": null,
   "id": "c4e7bef1-e628-48f0-bf73-b8dc99fce6da",
   "metadata": {},
   "outputs": [],
   "source": [
    "rfmodel=RandomForestRegressor(random_state=42)\n",
    "rfmodel.fit(xtrain,ytrain)\n",
    "ypredtrain2=rfmodel.predict(xtrain)\n",
    "ypredtest2=rfmodel.predict(xtest)\n",
    "print(r2_score(ytrain,ypredtrain2))\n",
    "print(r2_score(ytest,ypredtest2))\n",
    "print(cross_val_score(rfmodel,X,Y,cv=5,).mean())\n",
    "from sklearn.model_selection import GridSearchCV\n",
    "estimator=RandomForestRegressor(random_state=42)\n",
    "param_grid={'n_estimators':[10,40,50,98,100,120,150]}\n",
    "grid=GridSearchCV(estimator,param_grid,scoring=\"r2\",cv=5)\n",
    "grid.fit(xtrain,ytrain)\n",
    "print(grid.best_params_)\n",
    "rfmodel=RandomForestRegressor(random_state=42,n_estimators=120)\n",
    "rfmodel.fit(xtrain,ytrain)\n",
    "ypredtrain2=rfmodel.predict(xtrain)\n",
    "ypredtest2=rfmodel.predict(xtest)\n",
    "print(r2_score(ytrain,ypredtrain2))\n",
    "print(r2_score(ytest,ypredtest2))\n",
    "print(cross_val_score(rfmodel,X,Y,cv=5,).mean())"
   ]
  },
  {
   "cell_type": "code",
   "execution_count": null,
   "id": "51c1d5e6-2fe4-45fe-9dba-b09fc089ec4a",
   "metadata": {},
   "outputs": [],
   "source": [
    "gbmodel=GradientBoostingRegressor()\n",
    "gbmodel.fit(xtrain,ytrain)\n",
    "ypredtrain3=gbmodel.predict(xtrain)\n",
    "ypredtest3=gbmodel.predict(xtest)\n",
    "print(r2_score(ytrain,ypredtrain3))\n",
    "print(r2_score(ytest,ypredtest3))\n",
    "print(cross_val_score(gbmodel,X,Y,cv=5,).mean())\n",
    "from sklearn.model_selection import GridSearchCV\n",
    "estimator=GradientBoostingRegressor()\n",
    "param_grid={'n_estimators':[10,15,19,20,21,50],'learning_rate':[0.1,0.19,0.2,0.21,0.8,1]}\n",
    "grid=GridSearchCV(estimator,param_grid,scoring=\"r2\",cv=5)\n",
    "grid.fit(xtrain,ytrain)\n",
    "print(grid.best_params_)\n",
    "gbmodel=GradientBoostingRegressor(n_estimators=19,learning_rate=0.2)\n",
    "gbmodel.fit(xtrain,ytrain)\n",
    "ypredtrain3=gbmodel.predict(xtrain)\n",
    "ypredtest3=gbmodel.predict(xtest)\n",
    "print(r2_score(ytrain,ypredtrain3))\n",
    "print(r2_score(ytest,ypredtest3))\n",
    "print(cross_val_score(gbmodel,X,Y,cv=5,).mean())"
   ]
  },
  {
   "cell_type": "code",
   "execution_count": null,
   "id": "16193be0-2526-4c9a-842c-43ea98f05989",
   "metadata": {},
   "outputs": [],
   "source": [
    "xgmodel=XGBRegressor()\n",
    "xgmodel.fit(xtrain,ytrain)\n",
    "ypredtrain4=xgmodel.predict(xtrain)\n",
    "ypredtest4=xgmodel.predict(xtest)\n",
    "print(r2_score(ytrain,ypredtrain4))\n",
    "print(r2_score(ytest,ypredtest4))\n",
    "print(cross_val_score(xgmodel,X,Y,cv=5,).mean())\n",
    "from sklearn.model_selection import GridSearchCV\n",
    "estimator=XGBRegressor()\n",
    "param_grid={'n_estimators':[10,15,20,40,50],'max_depth':[3,4,5],'gamma':[0,0.15,0.3,0.5,1]}\n",
    "grid=GridSearchCV(estimator,param_grid,scoring=\"r2\",cv=5)\n",
    "grid.fit(xtrain,ytrain)\n",
    "print(grid.best_params_)\n",
    "xgmodel=XGBRegressor(n_estimators=15,max_depth=3,gamma=0)\n",
    "xgmodel.fit(xtrain,ytrain)\n",
    "ypredtrain4=xgmodel.predict(xtrain)\n",
    "ypredtest4=xgmodel.predict(xtest)\n",
    "print(r2_score(ytrain,ypredtrain4))\n",
    "print(r2_score(ytest,ypredtest4))\n",
    "print(cross_val_score(xgmodel,X,Y,cv=5,).mean())"
   ]
  },
  {
   "cell_type": "code",
   "execution_count": null,
   "id": "3e045941-9956-4916-9778-d3b42bc06d15",
   "metadata": {},
   "outputs": [],
   "source": [
    "feats=pd.DataFrame(data=grid.best_estimator_.feature_importances_,index=X.columns,columns=['Importance'])\n",
    "feats"
   ]
  },
  {
   "cell_type": "code",
   "execution_count": null,
   "id": "dc84bdae-d7b6-4c62-9b75-e6a87a8dad7b",
   "metadata": {},
   "outputs": [],
   "source": [
    "important_features=feats[feats['Importance']>0.01]\n",
    "important_features"
   ]
  },
  {
   "cell_type": "code",
   "execution_count": null,
   "id": "167f3e91-fc37-4804-a54e-6bdd814169ef",
   "metadata": {},
   "outputs": [],
   "source": [
    "df.drop(df[['sex','region']],axis=1,inplace=True)\n",
    "Xf=df.drop(df[['charges']],axis=1)\n",
    "X=df.drop(df[['charges']],axis=1)\n",
    "xtrain,xtest,ytrain,ytest=train_test_split(Xf,Y,test_size=0.2,random_state=42)\n",
    "finalmodel=XGBRegressor(n_estimators=15,max_depth=3,gamma=0)\n",
    "finalmodel.fit(xtrain,ytrain)\n",
    "ypredtrain4=finalmodel.predict(xtrain)\n",
    "ypredtest4=finalmodel.predict(xtest)\n",
    "print(r2_score(ytrain,ypredtrain4))\n",
    "print(r2_score(ytest,ypredtest4))\n",
    "print(cross_val_score(finalmodel,X,Y,cv=5,).mean())"
   ]
  },
  {
   "cell_type": "code",
   "execution_count": null,
   "id": "103eb13e-cfb8-4908-9b1b-d1a6cf4ae458",
   "metadata": {},
   "outputs": [],
   "source": [
    "from pickle import dump\n",
    "dump(finalmodel,open('insurancemodelf.pkl','wb'))"
   ]
  },
  {
   "cell_type": "code",
   "execution_count": null,
   "id": "f0f89014-83e0-44ee-a7d0-4ea96c435c2b",
   "metadata": {},
   "outputs": [],
   "source": [
    "new_data=pd.DataFrame({'age':50,'sex':'female','bmi':15,'children':5,'smoker':'no','region':'northeast'},index=[0])\n",
    "new_data['smoker']=new_data['smoker'].map({'yes':1,'no':0})\n",
    "new_data=new_data.drop(new_data[['sex','region']],axis=1)\n",
    "finalmodel.predict(new_data)"
   ]
  },
  {
   "cell_type": "code",
   "execution_count": null,
   "id": "b141f4aa-ad0a-4049-9d11-53ec6425f1ae",
   "metadata": {},
   "outputs": [],
   "source": []
  }
 ],
 "metadata": {
  "kernelspec": {
   "display_name": "Python 3 (ipykernel)",
   "language": "python",
   "name": "python3"
  },
  "language_info": {
   "codemirror_mode": {
    "name": "ipython",
    "version": 3
   },
   "file_extension": ".py",
   "mimetype": "text/x-python",
   "name": "python",
   "nbconvert_exporter": "python",
   "pygments_lexer": "ipython3",
   "version": "3.11.5"
  }
 },
 "nbformat": 4,
 "nbformat_minor": 5
}
